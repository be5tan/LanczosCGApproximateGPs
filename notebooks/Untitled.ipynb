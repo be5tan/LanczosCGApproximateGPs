{
 "cells": [
  {
   "cell_type": "code",
   "execution_count": 1,
   "id": "f4b1b73f-bb21-459a-a151-e5e5ea41d3c1",
   "metadata": {},
   "outputs": [],
   "source": [
    "import numpy as np\n",
    "import LanczosCGApproximateGPs as gp"
   ]
  },
  {
   "cell_type": "code",
   "execution_count": 2,
   "id": "4a3805eb-0d3b-4d8a-8ca8-46ce17e1fd35",
   "metadata": {},
   "outputs": [
    {
     "name": "stdout",
     "output_type": "stream",
     "text": [
      "[0.     0.0625 0.25   0.5625 1.    ]\n"
     ]
    }
   ],
   "source": [
    "sample_size = 5\n",
    "max_iter = 5\n",
    "noise_level = 1\n",
    "\n",
    "X = np.array([np.linspace(0, 1, sample_size)])\n",
    "X = X.transpose()\n",
    "Y = X[:, 0]**2\n",
    "print(Y)\n",
    "\n",
    "actions = []\n",
    "index = 0\n",
    "for iter in range(0, max_iter):\n",
    "    action = np.zeros(sample_size)\n",
    "    action[index] = 1\n",
    "    actions.append(action)\n",
    "    index = index + 1"
   ]
  },
  {
   "cell_type": "code",
   "execution_count": 3,
   "id": "986bf868-7162-4ee9-8180-b5b50b068ed1",
   "metadata": {},
   "outputs": [],
   "source": [
    "def gaussian_kernel(x, y):\n",
    "    z = np.minimum(x, y)\n",
    "    return z"
   ]
  },
  {
   "cell_type": "code",
   "execution_count": 4,
   "id": "9784e33f-4167-420a-a455-16ecc716d849",
   "metadata": {},
   "outputs": [
    {
     "data": {
      "text/plain": [
       "array([[0.  , 0.  , 0.  , 0.  , 0.  ],\n",
       "       [0.  , 0.25, 0.25, 0.25, 0.25],\n",
       "       [0.  , 0.25, 0.5 , 0.5 , 0.5 ],\n",
       "       [0.  , 0.25, 0.5 , 0.75, 0.75],\n",
       "       [0.  , 0.25, 0.5 , 0.75, 1.  ]])"
      ]
     },
     "execution_count": 4,
     "metadata": {},
     "output_type": "execute_result"
    }
   ],
   "source": [
    "algorithm = gp.Iter_GP(X, Y, noise_level, actions, kernel = gaussian_kernel)\n",
    "\n",
    "x = np.array([0, 1, 2])\n",
    "y = np.array([1, 0, 2])\n",
    "algorithm.kernel(x, 0)\n",
    "\n",
    "algorithm.kernel_matrix"
   ]
  },
  {
   "cell_type": "code",
   "execution_count": 5,
   "id": "fe8c574b-75ac-426e-a5dd-a323b8a15a60",
   "metadata": {},
   "outputs": [
    {
     "data": {
      "text/plain": [
       "array([[ 1.        ,  0.        ,  0.        ,  0.        ,  0.        ],\n",
       "       [ 0.        ,  0.84463519, -0.09957082, -0.06866953, -0.05493562],\n",
       "       [ 0.        , -0.09957082,  0.77596567, -0.15450644, -0.12360515],\n",
       "       [ 0.        , -0.06866953, -0.15450644,  0.72103004, -0.22317597],\n",
       "       [ 0.        , -0.05493562, -0.12360515, -0.22317597,  0.62145923]])"
      ]
     },
     "execution_count": 5,
     "metadata": {},
     "output_type": "execute_result"
    }
   ],
   "source": [
    "algorithm.kernel_matrix\n",
    "algorithm.augmented_kernel_matrix\n",
    "\n",
    "K_sigma = algorithm.augmented_kernel_matrix\n",
    "inverse = np.linalg.inv(K_sigma)\n",
    "inverse"
   ]
  },
  {
   "cell_type": "code",
   "execution_count": 6,
   "id": "8de6f294-12f8-4d20-ae68-c8b5b6f2578e",
   "metadata": {},
   "outputs": [],
   "source": [
    "algorithm.iter_forward(3)"
   ]
  },
  {
   "cell_type": "code",
   "execution_count": 7,
   "id": "a4d1777b-9f53-4b14-a777-063af47ce901",
   "metadata": {},
   "outputs": [
    {
     "data": {
      "text/plain": [
       "3"
      ]
     },
     "execution_count": 7,
     "metadata": {},
     "output_type": "execute_result"
    }
   ],
   "source": [
    "algorithm.iter"
   ]
  },
  {
   "cell_type": "code",
   "execution_count": 8,
   "id": "e12d6184-be6e-4844-9fa6-ae804d6db2d2",
   "metadata": {},
   "outputs": [
    {
     "data": {
      "text/plain": [
       "array([[ 1.        ,  0.        ,  0.        ,  0.        ,  0.        ],\n",
       "       [ 0.        ,  0.82758621, -0.13793103,  0.        ,  0.        ],\n",
       "       [ 0.        , -0.13793103,  0.68965517,  0.        ,  0.        ],\n",
       "       [ 0.        ,  0.        ,  0.        ,  0.        ,  0.        ],\n",
       "       [ 0.        ,  0.        ,  0.        ,  0.        ,  0.        ]])"
      ]
     },
     "execution_count": 8,
     "metadata": {},
     "output_type": "execute_result"
    }
   ],
   "source": [
    "algorithm.low_rank_augmented_inverse"
   ]
  },
  {
   "cell_type": "code",
   "execution_count": 10,
   "id": "5dd2574d-601e-4f6b-ad19-f75f6e63f2c1",
   "metadata": {},
   "outputs": [
    {
     "data": {
      "text/plain": [
       "\u001b[0;31mSignature:\u001b[0m \u001b[0malgorithm\u001b[0m\u001b[0;34m.\u001b[0m\u001b[0miter_forward\u001b[0m\u001b[0;34m(\u001b[0m\u001b[0miter_num\u001b[0m\u001b[0;34m)\u001b[0m\u001b[0;34m\u001b[0m\u001b[0;34m\u001b[0m\u001b[0m\n",
       "\u001b[0;31mDocstring:\u001b[0m Performs iter_num iterations of the Iter_GP algorithm.\n",
       "\u001b[0;31mFile:\u001b[0m      ~/Projects/LanczosCGApproximateGPs/src/LanczosCGApproximateGPs/Iter_GP.py\n",
       "\u001b[0;31mType:\u001b[0m      method"
      ]
     },
     "metadata": {},
     "output_type": "display_data"
    }
   ],
   "source": [
    "algorithm.iter_forward?"
   ]
  }
 ],
 "metadata": {
  "kernelspec": {
   "display_name": "myenv",
   "language": "python",
   "name": "myenv"
  },
  "language_info": {
   "codemirror_mode": {
    "name": "ipython",
    "version": 3
   },
   "file_extension": ".py",
   "mimetype": "text/x-python",
   "name": "python",
   "nbconvert_exporter": "python",
   "pygments_lexer": "ipython3",
   "version": "3.11.5"
  }
 },
 "nbformat": 4,
 "nbformat_minor": 5
}
