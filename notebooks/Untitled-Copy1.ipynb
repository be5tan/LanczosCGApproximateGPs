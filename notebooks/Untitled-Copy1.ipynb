{
 "cells": [
  {
   "cell_type": "code",
   "execution_count": 1,
   "id": "f4b1b73f-bb21-459a-a151-e5e5ea41d3c1",
   "metadata": {},
   "outputs": [],
   "source": [
    "import numpy as np\n",
    "import LanczosCGApproximateGPs as gp"
   ]
  },
  {
   "cell_type": "code",
   "execution_count": 8,
   "id": "4a3805eb-0d3b-4d8a-8ca8-46ce17e1fd35",
   "metadata": {},
   "outputs": [
    {
     "name": "stdout",
     "output_type": "stream",
     "text": [
      "[ 1.46119931  0.46749914 -0.27343995 -1.03447774  0.52810173  2.2118859\n",
      "  0.04586172  1.40545016 -0.88371936 -1.46467781 -0.37248388 -0.50433348\n",
      "  1.6338727   0.97939182 -1.60014541  0.64304091  0.0867822  -0.85649737\n",
      " -0.01968357 -0.46915782  1.75298398  0.07939788 -0.25264659  1.15814888\n",
      " -0.0217464  -0.63666784 -1.39247456  0.67750764  0.84566404  1.1326687\n",
      "  1.20711762 -2.08556133 -0.43058101 -0.12743447 -0.4281019  -0.27065679\n",
      "  0.35453108  1.20141517  0.49030103  0.31444503 -1.79877987  1.02517186\n",
      "  2.54033632 -0.81914796  0.43882377 -0.89318414  0.75587983 -1.18861999\n",
      "  1.76346706  1.93517451  1.2865612   1.8711832   1.2186853   0.27026212\n",
      " -2.15799718 -2.2104038   1.02692689 -0.95639308  1.06294648 -1.00284743\n",
      " -0.69873776  2.11816194  0.61910311  0.5944275   1.7898815   0.90580939\n",
      " -0.63454772  1.21641006 -0.26223373  0.27180261  0.19834869  2.34192112\n",
      "  0.74971665 -1.47803768 -0.0084965  -0.32541995  0.88127711 -0.59225704\n",
      "  1.07021795 -0.27552646  0.24825832  0.81464302  0.40717169  2.03413279\n",
      "  2.16821863 -1.89100675  0.80844113  1.23059297  0.35908013  0.9112269\n",
      " -0.43073998  0.51162053  2.43362418  0.16467308  1.48360511  1.63594929\n",
      "  0.21337663  1.46318823  1.39030711 -0.74070034]\n"
     ]
    }
   ],
   "source": [
    "sample_size = 100\n",
    "max_iter = 10\n",
    "noise_level = 1\n",
    "\n",
    "X = np.array([np.linspace(0, 1, sample_size)])\n",
    "X = X.transpose()\n",
    "eps = np.random.normal(0, noise_level, sample_size)\n",
    "f = X[:, 0]\n",
    "Y = f + eps\n",
    "print(Y)\n",
    "\n",
    "actions = []\n",
    "index = 0\n",
    "for iter in range(0, max_iter):\n",
    "    action = np.zeros(sample_size)\n",
    "    action[index] = 1\n",
    "    actions.append(action)\n",
    "    index = index + 1"
   ]
  },
  {
   "cell_type": "code",
   "execution_count": 3,
   "id": "986bf868-7162-4ee9-8180-b5b50b068ed1",
   "metadata": {},
   "outputs": [],
   "source": [
    "def gaussian_kernel(x, y):\n",
    "    z = np.minimum(x, y)\n",
    "    return z"
   ]
  },
  {
   "cell_type": "code",
   "execution_count": 4,
   "id": "b9b40b26-8653-46ca-93af-8641b920871c",
   "metadata": {},
   "outputs": [
    {
     "name": "stdout",
     "output_type": "stream",
     "text": [
      "[[0.  ]\n",
      " [0.25]\n",
      " [0.5 ]\n",
      " [0.75]\n",
      " [1.  ]]\n"
     ]
    },
    {
     "data": {
      "text/plain": [
       "array([[0.  ],\n",
       "       [0.25],\n",
       "       [0.5 ],\n",
       "       [0.75],\n",
       "       [1.  ]])"
      ]
     },
     "execution_count": 4,
     "metadata": {},
     "output_type": "execute_result"
    }
   ],
   "source": [
    "print(X)\n",
    "gaussian_kernel(X, X)"
   ]
  },
  {
   "cell_type": "code",
   "execution_count": 5,
   "id": "9784e33f-4167-420a-a455-16ecc716d849",
   "metadata": {},
   "outputs": [],
   "source": [
    "algorithm = gp.Iter_GP(X, Y, noise_level, actions, kernel = gaussian_kernel)\n",
    "algorithm.iter_forward(sample_size)"
   ]
  },
  {
   "cell_type": "code",
   "execution_count": 6,
   "id": "fe8c574b-75ac-426e-a5dd-a323b8a15a60",
   "metadata": {},
   "outputs": [
    {
     "name": "stdout",
     "output_type": "stream",
     "text": [
      "[[ 1.          0.          0.          0.          0.        ]\n",
      " [ 0.          0.84463519 -0.09957082 -0.06866953 -0.05493562]\n",
      " [ 0.         -0.09957082  0.77596567 -0.15450644 -0.12360515]\n",
      " [ 0.         -0.06866953 -0.15450644  0.72103004 -0.22317597]\n",
      " [ 0.         -0.05493562 -0.12360515 -0.22317597  0.62145923]]\n"
     ]
    },
    {
     "data": {
      "text/plain": [
       "array([[ 1.        ,  0.        ,  0.        ,  0.        ,  0.        ],\n",
       "       [ 0.        ,  0.84463519, -0.09957082, -0.06866953, -0.05493562],\n",
       "       [ 0.        , -0.09957082,  0.77596567, -0.15450644, -0.12360515],\n",
       "       [ 0.        , -0.06866953, -0.15450644,  0.72103004, -0.22317597],\n",
       "       [ 0.        , -0.05493562, -0.12360515, -0.22317597,  0.62145923]])"
      ]
     },
     "execution_count": 6,
     "metadata": {},
     "output_type": "execute_result"
    }
   ],
   "source": [
    "algorithm.kernel_matrix\n",
    "print(algorithm.approx_augmented_inverse)\n",
    "\n",
    "K_sigma = algorithm.augmented_kernel_matrix\n",
    "inverse = np.linalg.inv(K_sigma)\n",
    "inverse"
   ]
  },
  {
   "cell_type": "code",
   "execution_count": 7,
   "id": "e9232d83-47c0-4dc2-9623-5b77a2c369a6",
   "metadata": {},
   "outputs": [
    {
     "name": "stdout",
     "output_type": "stream",
     "text": [
      "[0.         0.74535969 1.48789059 1.9368423  2.23220332]\n",
      "[0.   0.25 0.5  0.75 1.  ]\n"
     ]
    }
   ],
   "source": [
    "print(algorithm.approx_posterior_mean(X))\n",
    "print(f)"
   ]
  }
 ],
 "metadata": {
  "kernelspec": {
   "display_name": "myenv",
   "language": "python",
   "name": "myenv"
  },
  "language_info": {
   "codemirror_mode": {
    "name": "ipython",
    "version": 3
   },
   "file_extension": ".py",
   "mimetype": "text/x-python",
   "name": "python",
   "nbconvert_exporter": "python",
   "pygments_lexer": "ipython3",
   "version": "3.11.5"
  }
 },
 "nbformat": 4,
 "nbformat_minor": 5
}
