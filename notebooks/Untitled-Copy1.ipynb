{
 "cells": [
  {
   "cell_type": "code",
   "execution_count": null,
   "id": "f4b1b73f-bb21-459a-a151-e5e5ea41d3c1",
   "metadata": {},
   "outputs": [],
   "source": [
    "import numpy as np\n",
    "import time\n",
    "import mycextension as mce"
   ]
  },
  {
   "cell_type": "code",
   "execution_count": null,
   "id": "aeb06dea-4860-4345-bc66-cbd8710d55e1",
   "metadata": {},
   "outputs": [],
   "source": [
    "sample_size = 7\n",
    "A = np.eye(sample_size)\n",
    "# y = np.random.normal(0, 1, sample_size)\n",
    "y = np.ones(sample_size)\n",
    "np.dot(y, y)"
   ]
  },
  {
   "cell_type": "code",
   "execution_count": null,
   "id": "920b6665-2500-400c-a250-3aaa16ec6e77",
   "metadata": {},
   "outputs": [],
   "source": [
    "mce.cgActions(A, y, 10)"
   ]
  },
  {
   "cell_type": "code",
   "execution_count": null,
   "id": "ce9dbb9d-d5b4-4cc6-be1f-ce4d42194b17",
   "metadata": {},
   "outputs": [],
   "source": [
    "import numpy as np\n",
    "import time\n",
    "import mycextension as mce\n",
    "\n",
    "sample_size = 7\n",
    "A = 2 * np.eye(sample_size)\n",
    "# y = np.random.normal(0, 1, sample_size)\n",
    "y = np.ones(sample_size)\n",
    "np.dot(y, y)\n",
    "\n",
    "mce.cgActions(A, y, 10)"
   ]
  }
 ],
 "metadata": {
  "kernelspec": {
   "display_name": "agpenv",
   "language": "python",
   "name": "agpenv"
  },
  "language_info": {
   "codemirror_mode": {
    "name": "ipython",
    "version": 3
   },
   "file_extension": ".py",
   "mimetype": "text/x-python",
   "name": "python",
   "nbconvert_exporter": "python",
   "pygments_lexer": "ipython3",
   "version": "3.11.8"
  }
 },
 "nbformat": 4,
 "nbformat_minor": 5
}
